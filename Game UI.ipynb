{
 "cells": [
  {
   "cell_type": "code",
   "execution_count": 1,
   "id": "a0dd6aec",
   "metadata": {},
   "outputs": [
    {
     "ename": "SystemExit",
     "evalue": "0",
     "output_type": "error",
     "traceback": [
      "An exception has occurred, use %tb to see the full traceback.\n",
      "\u001b[0;31mSystemExit\u001b[0m\u001b[0;31m:\u001b[0m 0\n"
     ]
    },
    {
     "name": "stderr",
     "output_type": "stream",
     "text": [
      "/Users/harshprasad/opt/anaconda3/lib/python3.8/site-packages/IPython/core/interactiveshell.py:3445: UserWarning: To exit: use 'exit', 'quit', or Ctrl-D.\n",
      "  warn(\"To exit: use 'exit', 'quit', or Ctrl-D.\", stacklevel=1)\n"
     ]
    }
   ],
   "source": [
    "from tkinter import Frame,Label,CENTER\n",
    "import GameLogic\n",
    "import Constants as c\n",
    "\n",
    "class Game2048(Frame):\n",
    "    def __init__(self):\n",
    "        Frame.__init__(self)\n",
    "        \n",
    "        self.grid()\n",
    "        self.master.title('2048')\n",
    "        self.master.bind(\"<Key>\",self.key_down)\n",
    "        self.commands={c.KEY_UP:GameLogic.move_up,c.KEY_DOWN:GameLogic.move_down,c.KEY_LEFT:GameLogic.move_left,c.KEY_RIGHT:GameLogic.move_right}\n",
    "        \n",
    "        self.grid_cells=[]\n",
    "        self.init_grid()\n",
    "        self.init_matrix()\n",
    "        self.update_grid_cells()\n",
    "        \n",
    "        self.mainloop()\n",
    "        \n",
    "    def init_grid(self):\n",
    "        background=Frame(self,bg=c.BACKGROUND_COLOUR_GAME,width=c.SIZE,height=c.SIZE)\n",
    "        background.grid()\n",
    "        for i in range(c.GRID_LEN):\n",
    "            grid_row=[]\n",
    "            for j in range(c.GRID_LEN):\n",
    "                cell=Frame(background,bg=c.BACKGROUND_COLOUR_EMPTY_CELL,width=c.SIZE/c.GRID_LEN,height=c.SIZE/c.GRID_LEN)\n",
    "                cell.grid(row=i,column=j,padx=c.GRID_PADDING,pady=c.GRID_PADDING)\n",
    "                t=Label(master=cell,text=\"\",bg=c.BACKGROUND_COLOUR_EMPTY_CELL,justify=CENTER,font=c.FONT,width=10,height=5)\n",
    "                t.grid()\n",
    "                grid_row.append(t)\n",
    "            self.grid_cells.append(grid_row)\n",
    "    \n",
    "    def init_matrix(self):\n",
    "        self.matrix=GameLogic.Start()\n",
    "        GameLogic.add2(self.matrix)\n",
    "        GameLogic.add2(self.matrix)\n",
    "        \n",
    "    def update_grid_cells(self):\n",
    "        for i in range(c.GRID_LEN):\n",
    "            for j in range(c.GRID_LEN):\n",
    "                new_number=self.matrix[i][j]\n",
    "                if(new_number==0):\n",
    "                    self.grid_cells[i][j].configure(text=\"\",bg=c.BACKGROUND_COLOUR_EMPTY_CELL)\n",
    "                else:\n",
    "                    self.grid_cells[i][j].configure(text=str(new_number),bg=c.BACKGROUND_COLOUR_DICT[new_number],fg=c.CELL_COLOUR_DICT[new_number])\n",
    "        self.update_idletasks()\n",
    "        \n",
    "    def key_down(self,event):\n",
    "        key=repr(event.char)\n",
    "        if key in self.commands:\n",
    "            self.matrix,changed=self.commands[repr(event.char)](self.matrix)\n",
    "            if changed:\n",
    "                GameLogic.add2(self.matrix)\n",
    "                self.update_grid_cells()\n",
    "                changed=False\n",
    "                if(GameLogic.currState(self.matrix)=='WON'):\n",
    "                    self.grid_cells[1][1].configure(text=\"You\",bg=c.BACKGROUND_COLOUR_EMPTY_CELL)\n",
    "                    self.grid_cells[1][2].configure(text=\"Win\",bg=c.BACKGROUND_COLOUR_EMPTY_CELL)\n",
    "                if(GameLogic.currState(self.matrix)=='LOST'):\n",
    "                    self.grid_cells[1][1].configure(text=\"You\",bg=c.BACKGROUND_COLOUR_EMPTY_CELL)\n",
    "                    self.grid_cells[1][2].configure(text=\"Lose\",bg=c.BACKGROUND_COLOUR_EMPTY_CELL)\n",
    "        \n",
    "gamegrid=Game2048()"
   ]
  },
  {
   "cell_type": "code",
   "execution_count": null,
   "id": "16bb1e7c",
   "metadata": {},
   "outputs": [],
   "source": []
  }
 ],
 "metadata": {
  "kernelspec": {
   "display_name": "Python 3",
   "language": "python",
   "name": "python3"
  },
  "language_info": {
   "codemirror_mode": {
    "name": "ipython",
    "version": 3
   },
   "file_extension": ".py",
   "mimetype": "text/x-python",
   "name": "python",
   "nbconvert_exporter": "python",
   "pygments_lexer": "ipython3",
   "version": "3.8.8"
  }
 },
 "nbformat": 4,
 "nbformat_minor": 5
}
